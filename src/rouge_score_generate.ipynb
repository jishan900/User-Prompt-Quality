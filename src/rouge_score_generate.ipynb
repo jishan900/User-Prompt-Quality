{
 "cells": [
  {
   "cell_type": "code",
   "execution_count": 3,
   "metadata": {},
   "outputs": [
    {
     "name": "stderr",
     "output_type": "stream",
     "text": [
      "C:\\Users\\Jishan\\anaconda3\\lib\\site-packages\\nltk\\metrics\\association.py:26: UserWarning: A NumPy version >=1.22.4 and <2.3.0 is required for this version of SciPy (detected version 1.21.5)\n",
      "  from scipy.stats import fisher_exact\n"
     ]
    },
    {
     "name": "stdout",
     "output_type": "stream",
     "text": [
      "ROUGE Scores:\n",
      "ROUGE1 -> Precision: 0.034, Recall: 0.556, F1: 0.064\n",
      "ROUGE2 -> Precision: 0.021, Recall: 0.375, F1: 0.039\n",
      "ROUGE3 -> Precision: 0.014, Recall: 0.286, F1: 0.026\n",
      "ROUGE4 -> Precision: 0.007, Recall: 0.167, F1: 0.013\n",
      "ROUGEL -> Precision: 0.027, Recall: 0.444, F1: 0.051\n"
     ]
    }
   ],
   "source": [
    "from rouge_score import rouge_scorer\n",
    "\n",
    "# Reference (prompt) and generated text\n",
    "reference = \"What’s the best way to begin learning Greek?\"\n",
    "candidate = \"\"\"To begin learning Greek effectively, start by mastering the Greek alphabet and pronunciation of each letter. \n",
    "Familiarize yourself with basic vocabulary and essential phrases used in everyday conversations. \n",
    "As you progress, delve into fundamental grammar rules, such as noun and verb conjugation, and learn sentence structure. \n",
    "Practice listening to Greek audio, watching Greek videos, and speaking aloud to improve your comprehension and pronunciation skills. \n",
    "Engage in reading Greek texts at your level to enhance your reading comprehension and vocabulary. \n",
    "Utilize language learning apps and online resources to reinforce learning through interactive exercises and quizzes. \n",
    "Immerse yourself in Greek culture by exploring Greek music, movies, and literature, which will deepen your understanding of the language and its nuances. \n",
    "Finally, seek opportunities to converse with native speakers or language exchange partners to practice speaking and receive feedback on your progress. \n",
    "Consistency and immersion are key to mastering Greek effectively.\"\"\"\n",
    "\n",
    "# Initialize scorer with the variants you want\n",
    "scorer = rouge_scorer.RougeScorer(\n",
    "    ['rouge1', 'rouge2', 'rouge3', 'rouge4', 'rougeL'],\n",
    "    use_stemmer=True\n",
    ")\n",
    "\n",
    "# Compute scores\n",
    "scores = scorer.score(reference, candidate)\n",
    "\n",
    "# Print results\n",
    "print(\"ROUGE Scores:\")\n",
    "for metric, values in scores.items():\n",
    "    print(f\"{metric.upper()} -> Precision: {values.precision:.3f}, Recall: {values.recall:.3f}, F1: {values.fmeasure:.3f}\")"
   ]
  },
  {
   "cell_type": "code",
   "execution_count": null,
   "metadata": {},
   "outputs": [],
   "source": []
  }
 ],
 "metadata": {
  "kernelspec": {
   "display_name": "Python 3 (ipykernel)",
   "language": "python",
   "name": "python3"
  },
  "language_info": {
   "codemirror_mode": {
    "name": "ipython",
    "version": 3
   },
   "file_extension": ".py",
   "mimetype": "text/x-python",
   "name": "python",
   "nbconvert_exporter": "python",
   "pygments_lexer": "ipython3",
   "version": "3.9.13"
  }
 },
 "nbformat": 4,
 "nbformat_minor": 2
}
