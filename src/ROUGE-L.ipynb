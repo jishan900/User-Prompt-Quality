{
 "cells": [
  {
   "cell_type": "code",
   "execution_count": null,
   "id": "71bf3513",
   "metadata": {},
   "outputs": [],
   "source": [
    "import pandas as pd\n",
    "from rouge_score import rouge_scorer\n",
    "\n",
    "# Load dataset (auto-detect delimiter)\n",
    "file_path = r\"C:\\Users\\Jishan\\Downloads\\DASA 2025\\Dataset_ROUGE-L.csv\"\n",
    "df = pd.read_csv(file_path, sep=None, engine=\"python\")\n",
    "\n",
    "# Check column names (debug)\n",
    "print(\"Columns:\", df.columns.tolist())\n",
    "\n",
    "# Initialize ROUGE scorer (only ROUGE-L)\n",
    "scorer = rouge_scorer.RougeScorer(['rougeL'], use_stemmer=True)\n",
    "\n",
    "# Function to compute ROUGE-L F1\n",
    "def compute_rougeL_f1(row):\n",
    "    reference = str(row[\"Prompt 4 (ROUGE-L F1)\"])       \n",
    "    candidate = str(row[\"Response 4 (ROUGE-L F1)\"])     \n",
    "    \n",
    "    if not reference.strip() or not candidate.strip():\n",
    "        return 0.0\n",
    "    \n",
    "    score = scorer.score(reference, candidate)\n",
    "    return score['rougeL'].fmeasure\n",
    "\n",
    "# Apply function\n",
    "df[\"ROUGE-L_F1\"] = df.apply(compute_rougeL_f1, axis=1)\n",
    "\n",
    "# Show first 5 results\n",
    "print(df[[\"Prompt 4 (ROUGE-L F1)\", \"Response 4 (ROUGE-L F1)\", \"ROUGE-L_F1\"]].head())\n",
    "\n",
    "# Save results\n",
    "output_path = r\"C:\\Users\\Jishan\\Downloads\\DASA 2025\\Dataset_with_ROUGE_L.csv\"\n",
    "df.to_csv(output_path, index=False)\n",
    "\n",
    "print(f\"\\n ROUGE-L F1 scores added and saved to {output_path}\")"
   ]
  }
 ],
 "metadata": {
  "kernelspec": {
   "display_name": "Python 3 (ipykernel)",
   "language": "python",
   "name": "python3"
  },
  "language_info": {
   "codemirror_mode": {
    "name": "ipython",
    "version": 3
   },
   "file_extension": ".py",
   "mimetype": "text/x-python",
   "name": "python",
   "nbconvert_exporter": "python",
   "pygments_lexer": "ipython3",
   "version": "3.9.13"
  }
 },
 "nbformat": 4,
 "nbformat_minor": 5
}
