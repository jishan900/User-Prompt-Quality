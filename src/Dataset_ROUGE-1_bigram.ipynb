{
 "cells": [
  {
   "cell_type": "code",
   "execution_count": null,
   "id": "fa693f5d",
   "metadata": {},
   "outputs": [],
   "source": [
    "import pandas as pd\n",
    "from rouge_score import rouge_scorer\n",
    "\n",
    "# Load dataset \n",
    "file_path = r\"C:\\Users\\Jishan\\Downloads\\DASA 2025\\Dataset_ROUGE-1_bigram.csv\"\n",
    "df = pd.read_csv(file_path, sep=None, engine=\"python\")\n",
    "\n",
    "# Check column names (debug)\n",
    "print(\"Columns:\", df.columns.tolist())\n",
    "\n",
    "# Initialize ROUGE scorer (only ROUGE-2 for bigrams)\n",
    "scorer = rouge_scorer.RougeScorer(['rouge2'], use_stemmer=True)\n",
    "\n",
    "# Function to compute ROUGE-2 F1\n",
    "def compute_rouge2_f1(row):\n",
    "    reference = str(row[\"Prompt 2 (ROUGE-2 F2)\"])\n",
    "    candidate = str(row[\"Response 2 (ROUGE-2 F2)\"])\n",
    "    \n",
    "    if not reference.strip() or not candidate.strip():\n",
    "        return 0.0\n",
    "    \n",
    "    score = scorer.score(reference, candidate)\n",
    "    return score['rouge2'].fmeasure\n",
    "\n",
    "# Apply function\n",
    "df[\"ROUGE-2_F1\"] = df.apply(compute_rouge2_f1, axis=1)\n",
    "\n",
    "# Show first 5 results\n",
    "print(df[[\"Prompt 2 (ROUGE-2 F2)\", \"Response 2 (ROUGE-2 F2)\", \"ROUGE-2_F1\"]].head())\n",
    "\n",
    "# Save results\n",
    "output_path = r\"C:\\Users\\Jishan\\Downloads\\DASA 2025\\Dataset_with_ROUGE_2_bigram.csv\"\n",
    "df.to_csv(output_path, index=False)\n",
    "\n",
    "print(f\"\\n ROUGE-2 F1 scores added and saved to {output_path}\")"
   ]
  }
 ],
 "metadata": {
  "kernelspec": {
   "display_name": "Python 3 (ipykernel)",
   "language": "python",
   "name": "python3"
  },
  "language_info": {
   "codemirror_mode": {
    "name": "ipython",
    "version": 3
   },
   "file_extension": ".py",
   "mimetype": "text/x-python",
   "name": "python",
   "nbconvert_exporter": "python",
   "pygments_lexer": "ipython3",
   "version": "3.9.13"
  }
 },
 "nbformat": 4,
 "nbformat_minor": 5
}
